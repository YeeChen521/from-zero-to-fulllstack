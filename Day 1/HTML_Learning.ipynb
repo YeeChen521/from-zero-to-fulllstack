{
 "cells": [
  {
   "cell_type": "markdown",
   "id": "74d8e6c0",
   "metadata": {},
   "source": [
    "# Intro to HTML (HyperText Markup Language)"
   ]
  },
  {
   "cell_type": "markdown",
   "id": "811be0d7",
   "metadata": {},
   "source": [
    "- Provides structure to the content appearing on a website"
   ]
  },
  {
   "cell_type": "markdown",
   "id": "2a688b1f",
   "metadata": {},
   "source": [
    "*markup* language is a computer language that defines the structure and presenntation of raw text. In HTML, the computer can interpret raw text thats is wrapped in the HTML **elements**."
   ]
  },
  {
   "cell_type": "markdown",
   "id": "029ce644",
   "metadata": {},
   "source": [
    "HyperText us text displayed on a computer device that provides access to other text through **links** (hyperlinks)."
   ]
  },
  {
   "cell_type": "code",
   "execution_count": null,
   "id": "7e8e5f28",
   "metadata": {},
   "outputs": [],
   "source": [
    "<h1>chewyeechen</h1>\n"
   ]
  }
 ],
 "metadata": {
  "kernelspec": {
   "display_name": "Python 3",
   "language": "python",
   "name": "python3"
  },
  "language_info": {
   "codemirror_mode": {
    "name": "ipython",
    "version": 3
   },
   "file_extension": ".py",
   "mimetype": "text/x-python",
   "name": "python",
   "nbconvert_exporter": "python",
   "pygments_lexer": "ipython3",
   "version": "3.12.5"
  }
 },
 "nbformat": 4,
 "nbformat_minor": 5
}
